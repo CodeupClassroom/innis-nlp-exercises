{
 "cells": [
  {
   "cell_type": "markdown",
   "metadata": {},
   "source": [
    "# Web Scraping"
   ]
  },
  {
   "cell_type": "code",
   "execution_count": 55,
   "metadata": {},
   "outputs": [],
   "source": [
    "from requests import get\n",
    "from bs4 import BeautifulSoup\n",
    "import pandas as pd"
   ]
  },
  {
   "cell_type": "code",
   "execution_count": 34,
   "metadata": {},
   "outputs": [
    {
     "data": {
      "text/plain": [
       "<Response [200]>"
      ]
     },
     "execution_count": 34,
     "metadata": {},
     "output_type": "execute_result"
    }
   ],
   "source": [
    "url = 'https://web-scraping-demo.zgulde.net/news'\n",
    "response = get(url)\n",
    "response"
   ]
  },
  {
   "cell_type": "code",
   "execution_count": 35,
   "metadata": {},
   "outputs": [
    {
     "name": "stdout",
     "output_type": "stream",
     "text": [
      "<!DOCTYPE html>\n",
      "<html lang=\"en\">\n",
      "<head>\n",
      "    <meta charset=\"UTF-8\">\n",
      "    <meta http-equiv=\"X-UA-Compatible\" content=\"IE=edge\">\n",
      "    <meta name=\"viewport\" content=\"width=device-width, initial-scale=1.0\">\n",
      "    <title>News Example Page</title>\n",
      "    <link href=\"https://unpkg.com/tailwindcss@^2/dist/tailwind.min.css\" rel=\"stylesheet\" />\n",
      "    <link rel=\"stylesheet\" href=\"https://cdn.jsdelivr.net/npm/bootstrap\n"
     ]
    }
   ],
   "source": [
    "print(response.text[:400])"
   ]
  },
  {
   "cell_type": "code",
   "execution_count": 37,
   "metadata": {},
   "outputs": [],
   "source": [
    "# Make a soup variable holding the response content\n",
    "soup = BeautifulSoup(response.text, 'html.parser')"
   ]
  },
  {
   "cell_type": "code",
   "execution_count": 41,
   "metadata": {},
   "outputs": [],
   "source": [
    "articles = soup.select('div.grid.grid-cols-4')"
   ]
  },
  {
   "cell_type": "code",
   "execution_count": 44,
   "metadata": {},
   "outputs": [
    {
     "data": {
      "text/plain": [
       "<div class=\"grid grid-cols-4 gap-x-4 border rounded pr-3 bg-green-50 hover:shadow-lg transition duration-500\">\n",
       "<img src=\"/static/placeholder.png\"/>\n",
       "<div class=\"col-span-3 space-y-3 py-3\">\n",
       "<h2 class=\"text-2xl text-green-900\">evidence just rest</h2>\n",
       "<div class=\"grid grid-cols-2 italic\">\n",
       "<p> 1976-01-10 </p>\n",
       "<p class=\"text-right\">By Janet Cardenas </p>\n",
       "</div>\n",
       "<p>Along we yeah commercial see.\n",
       "Draw choice head accept. Home miss listen best hour dinner agreement. Director short order better really article.</p>\n",
       "</div>\n",
       "</div>"
      ]
     },
     "execution_count": 44,
     "metadata": {},
     "output_type": "execute_result"
    }
   ],
   "source": [
    "article = articles[0]\n",
    "article"
   ]
  },
  {
   "cell_type": "code",
   "execution_count": 49,
   "metadata": {},
   "outputs": [],
   "source": [
    "def parse_news_article(article):\n",
    "    output = {}\n",
    "    output['headline'] = article.find('h2').text\n",
    "    output['date'], output['byline'], output['description'] = [p.text for p in article.find_all('p')]\n",
    "    return output"
   ]
  },
  {
   "cell_type": "code",
   "execution_count": 56,
   "metadata": {},
   "outputs": [
    {
     "data": {
      "text/html": [
       "<div>\n",
       "<style scoped>\n",
       "    .dataframe tbody tr th:only-of-type {\n",
       "        vertical-align: middle;\n",
       "    }\n",
       "\n",
       "    .dataframe tbody tr th {\n",
       "        vertical-align: top;\n",
       "    }\n",
       "\n",
       "    .dataframe thead th {\n",
       "        text-align: right;\n",
       "    }\n",
       "</style>\n",
       "<table border=\"1\" class=\"dataframe\">\n",
       "  <thead>\n",
       "    <tr style=\"text-align: right;\">\n",
       "      <th></th>\n",
       "      <th>headline</th>\n",
       "      <th>date</th>\n",
       "      <th>byline</th>\n",
       "      <th>description</th>\n",
       "    </tr>\n",
       "  </thead>\n",
       "  <tbody>\n",
       "    <tr>\n",
       "      <th>0</th>\n",
       "      <td>evidence just rest</td>\n",
       "      <td>1976-01-10</td>\n",
       "      <td>By Janet Cardenas</td>\n",
       "      <td>Along we yeah commercial see.\\nDraw choice hea...</td>\n",
       "    </tr>\n",
       "    <tr>\n",
       "      <th>1</th>\n",
       "      <td>prove Republican drop</td>\n",
       "      <td>2007-06-27</td>\n",
       "      <td>By Michael Wade</td>\n",
       "      <td>Against travel benefit general model differenc...</td>\n",
       "    </tr>\n",
       "    <tr>\n",
       "      <th>2</th>\n",
       "      <td>yeah claim least</td>\n",
       "      <td>1992-05-22</td>\n",
       "      <td>By Walter Wagner</td>\n",
       "      <td>Exist senior east think computer other red. Ca...</td>\n",
       "    </tr>\n",
       "    <tr>\n",
       "      <th>3</th>\n",
       "      <td>direction how decision</td>\n",
       "      <td>2003-10-01</td>\n",
       "      <td>By Roy Simpson</td>\n",
       "      <td>And much owner five seat. Stay why serve alrea...</td>\n",
       "    </tr>\n",
       "    <tr>\n",
       "      <th>4</th>\n",
       "      <td>pull this place</td>\n",
       "      <td>2010-07-17</td>\n",
       "      <td>By Michael Gillespie</td>\n",
       "      <td>Sort put animal able lay week. Miss guy toward...</td>\n",
       "    </tr>\n",
       "    <tr>\n",
       "      <th>5</th>\n",
       "      <td>benefit wide maintain</td>\n",
       "      <td>2015-02-24</td>\n",
       "      <td>By Brenda Rodriguez</td>\n",
       "      <td>Without area character certainly not change to...</td>\n",
       "    </tr>\n",
       "    <tr>\n",
       "      <th>6</th>\n",
       "      <td>process prevent building</td>\n",
       "      <td>1978-02-16</td>\n",
       "      <td>By Darrell Miranda</td>\n",
       "      <td>Seat test maintain. Choose onto performance st...</td>\n",
       "    </tr>\n",
       "    <tr>\n",
       "      <th>7</th>\n",
       "      <td>take others paper</td>\n",
       "      <td>2012-04-12</td>\n",
       "      <td>By Jordan Wolfe</td>\n",
       "      <td>Your write choose along prove may mission. Lea...</td>\n",
       "    </tr>\n",
       "    <tr>\n",
       "      <th>8</th>\n",
       "      <td>Congress stand not</td>\n",
       "      <td>1992-11-19</td>\n",
       "      <td>By Joseph Gardner</td>\n",
       "      <td>Guess traditional man history situation econom...</td>\n",
       "    </tr>\n",
       "    <tr>\n",
       "      <th>9</th>\n",
       "      <td>truth stay add</td>\n",
       "      <td>1973-07-16</td>\n",
       "      <td>By Mitchell Hawkins</td>\n",
       "      <td>Upon director nation us nearly cover. Despite ...</td>\n",
       "    </tr>\n",
       "    <tr>\n",
       "      <th>10</th>\n",
       "      <td>land strategy American</td>\n",
       "      <td>1999-06-11</td>\n",
       "      <td>By Randy Obrien</td>\n",
       "      <td>Late threat individual end anything few. Conti...</td>\n",
       "    </tr>\n",
       "    <tr>\n",
       "      <th>11</th>\n",
       "      <td>wrong ask local</td>\n",
       "      <td>2014-10-12</td>\n",
       "      <td>By Roy Gray</td>\n",
       "      <td>Your should responsibility eye culture teacher...</td>\n",
       "    </tr>\n",
       "  </tbody>\n",
       "</table>\n",
       "</div>"
      ],
      "text/plain": [
       "                    headline          date                 byline  \\\n",
       "0         evidence just rest   1976-01-10      By Janet Cardenas    \n",
       "1      prove Republican drop   2007-06-27        By Michael Wade    \n",
       "2           yeah claim least   1992-05-22       By Walter Wagner    \n",
       "3     direction how decision   2003-10-01         By Roy Simpson    \n",
       "4            pull this place   2010-07-17   By Michael Gillespie    \n",
       "5      benefit wide maintain   2015-02-24    By Brenda Rodriguez    \n",
       "6   process prevent building   1978-02-16     By Darrell Miranda    \n",
       "7          take others paper   2012-04-12        By Jordan Wolfe    \n",
       "8         Congress stand not   1992-11-19      By Joseph Gardner    \n",
       "9             truth stay add   1973-07-16    By Mitchell Hawkins    \n",
       "10    land strategy American   1999-06-11        By Randy Obrien    \n",
       "11           wrong ask local   2014-10-12            By Roy Gray    \n",
       "\n",
       "                                          description  \n",
       "0   Along we yeah commercial see.\\nDraw choice hea...  \n",
       "1   Against travel benefit general model differenc...  \n",
       "2   Exist senior east think computer other red. Ca...  \n",
       "3   And much owner five seat. Stay why serve alrea...  \n",
       "4   Sort put animal able lay week. Miss guy toward...  \n",
       "5   Without area character certainly not change to...  \n",
       "6   Seat test maintain. Choose onto performance st...  \n",
       "7   Your write choose along prove may mission. Lea...  \n",
       "8   Guess traditional man history situation econom...  \n",
       "9   Upon director nation us nearly cover. Despite ...  \n",
       "10  Late threat individual end anything few. Conti...  \n",
       "11  Your should responsibility eye culture teacher...  "
      ]
     },
     "execution_count": 56,
     "metadata": {},
     "output_type": "execute_result"
    }
   ],
   "source": [
    "pd.DataFrame([parse_news_article(article) for article in articles])"
   ]
  }
 ],
 "metadata": {
  "kernelspec": {
   "display_name": "Python 3 (ipykernel)",
   "language": "python",
   "name": "python3"
  },
  "language_info": {
   "codemirror_mode": {
    "name": "ipython",
    "version": 3
   },
   "file_extension": ".py",
   "mimetype": "text/x-python",
   "name": "python",
   "nbconvert_exporter": "python",
   "pygments_lexer": "ipython3",
   "version": "3.9.7"
  }
 },
 "nbformat": 4,
 "nbformat_minor": 2
}
