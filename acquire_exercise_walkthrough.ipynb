{
 "cells": [
  {
   "cell_type": "code",
   "execution_count": 60,
   "id": "ea56b9fe",
   "metadata": {},
   "outputs": [],
   "source": [
    "import requests\n",
    "from bs4 import BeautifulSoup\n",
    "import pandas as pd"
   ]
  },
  {
   "cell_type": "markdown",
   "id": "8b03f338",
   "metadata": {},
   "source": [
    "1. ~~Figure out how to deal with one card~~\n",
    "1. ~~Figure out how to loop over cards on a page~~\n",
    "1. ~~Figure out how to deal with multiple pages (categories)~~\n",
    "1. Turn it into one function"
   ]
  },
  {
   "cell_type": "code",
   "execution_count": 62,
   "id": "95595720",
   "metadata": {},
   "outputs": [],
   "source": [
    "# card -> dictionary\n",
    "def parse_news_card(card, category):\n",
    "    output = {}\n",
    "    output['category'] = category\n",
    "    output['title'] = card.select_one('a.clickable').text.strip()\n",
    "\n",
    "    card_content = card.select_one('div.news-card-content')\n",
    "    output['content'] = card_content.select_one('div').text\n",
    "    output['author'] = card_content.select_one('.author').text\n",
    "    output['published'] = card_content.select_one('.time').attrs['content']\n",
    "    \n",
    "    return output"
   ]
  },
  {
   "cell_type": "markdown",
   "id": "cc0bde19",
   "metadata": {},
   "source": [
    "http://www.inshorts.com/en/read/business"
   ]
  },
  {
   "cell_type": "code",
   "execution_count": 63,
   "id": "2f6bb3e3",
   "metadata": {},
   "outputs": [],
   "source": [
    "# category -> list[dict]\n",
    "def parse_inshorts_page(category):\n",
    "    url = 'http://www.inshorts.com/en/read/' + category\n",
    "    response = requests.get(url)\n",
    "    soup = BeautifulSoup(response.text)\n",
    "    articles = [parse_news_card(card, category) for card in soup.select('.news-card')]\n",
    "    return articles"
   ]
  },
  {
   "cell_type": "markdown",
   "id": "761b1ff3",
   "metadata": {},
   "source": [
    "- `.append`: takes in 1 element and adds it to the list\n",
    "- `.extend`: takes in a list and adds every element from the list"
   ]
  },
  {
   "cell_type": "code",
   "execution_count": 67,
   "id": "ee0bef3e",
   "metadata": {},
   "outputs": [],
   "source": [
    "def get_news_articles():\n",
    "    categories = ['business', 'sports', 'entertainment', 'technology']\n",
    "    articles = []\n",
    "\n",
    "    for category in categories:\n",
    "        print(f'getting articles for {category}')\n",
    "        category_articles = parse_inshorts_page(category)\n",
    "        articles.extend(category_articles)\n",
    "\n",
    "    return pd.DataFrame(articles)"
   ]
  },
  {
   "cell_type": "code",
   "execution_count": 68,
   "id": "43f34756",
   "metadata": {},
   "outputs": [
    {
     "name": "stdout",
     "output_type": "stream",
     "text": [
      "getting articles for business\n",
      "getting articles for sports\n",
      "getting articles for entertainment\n",
      "getting articles for technology\n"
     ]
    },
    {
     "data": {
      "text/html": [
       "<div>\n",
       "<style scoped>\n",
       "    .dataframe tbody tr th:only-of-type {\n",
       "        vertical-align: middle;\n",
       "    }\n",
       "\n",
       "    .dataframe tbody tr th {\n",
       "        vertical-align: top;\n",
       "    }\n",
       "\n",
       "    .dataframe thead th {\n",
       "        text-align: right;\n",
       "    }\n",
       "</style>\n",
       "<table border=\"1\" class=\"dataframe\">\n",
       "  <thead>\n",
       "    <tr style=\"text-align: right;\">\n",
       "      <th></th>\n",
       "      <th>category</th>\n",
       "      <th>title</th>\n",
       "      <th>content</th>\n",
       "      <th>author</th>\n",
       "      <th>published</th>\n",
       "    </tr>\n",
       "  </thead>\n",
       "  <tbody>\n",
       "    <tr>\n",
       "      <th>0</th>\n",
       "      <td>business</td>\n",
       "      <td>Rupee closes at all-time low of 77.50 against ...</td>\n",
       "      <td>The Indian rupee weakened further on Monday to...</td>\n",
       "      <td>Pragya Swastik</td>\n",
       "      <td>2022-05-09T15:27:43.000Z</td>\n",
       "    </tr>\n",
       "    <tr>\n",
       "      <th>1</th>\n",
       "      <td>business</td>\n",
       "      <td>Bitcoin briefly drops below $30,000 for first ...</td>\n",
       "      <td>Bitcoin, in the early hours of Tuesday, fell b...</td>\n",
       "      <td>Ridham Gambhir</td>\n",
       "      <td>2022-05-10T04:33:15.000Z</td>\n",
       "    </tr>\n",
       "    <tr>\n",
       "      <th>2</th>\n",
       "      <td>business</td>\n",
       "      <td>Microsoft to help cover US employees' travel c...</td>\n",
       "      <td>Microsoft has said that it will cover travel c...</td>\n",
       "      <td>Ridham Gambhir</td>\n",
       "      <td>2022-05-10T03:42:26.000Z</td>\n",
       "    </tr>\n",
       "    <tr>\n",
       "      <th>3</th>\n",
       "      <td>business</td>\n",
       "      <td>When are you coming to deliver 1st Tesla? Payt...</td>\n",
       "      <td>Paytm CEO Vijay Shekhar Sharma took to Twitter...</td>\n",
       "      <td>Ridham Gambhir</td>\n",
       "      <td>2022-05-10T05:08:13.000Z</td>\n",
       "    </tr>\n",
       "    <tr>\n",
       "      <th>4</th>\n",
       "      <td>business</td>\n",
       "      <td>After Musk's Taj Mahal tweet, his mother says ...</td>\n",
       "      <td>After Elon Musk tweeted he visited Taj Mahal i...</td>\n",
       "      <td>Apaar Sharma</td>\n",
       "      <td>2022-05-10T04:18:35.000Z</td>\n",
       "    </tr>\n",
       "  </tbody>\n",
       "</table>\n",
       "</div>"
      ],
      "text/plain": [
       "   category                                              title  \\\n",
       "0  business  Rupee closes at all-time low of 77.50 against ...   \n",
       "1  business  Bitcoin briefly drops below $30,000 for first ...   \n",
       "2  business  Microsoft to help cover US employees' travel c...   \n",
       "3  business  When are you coming to deliver 1st Tesla? Payt...   \n",
       "4  business  After Musk's Taj Mahal tweet, his mother says ...   \n",
       "\n",
       "                                             content          author  \\\n",
       "0  The Indian rupee weakened further on Monday to...  Pragya Swastik   \n",
       "1  Bitcoin, in the early hours of Tuesday, fell b...  Ridham Gambhir   \n",
       "2  Microsoft has said that it will cover travel c...  Ridham Gambhir   \n",
       "3  Paytm CEO Vijay Shekhar Sharma took to Twitter...  Ridham Gambhir   \n",
       "4  After Elon Musk tweeted he visited Taj Mahal i...    Apaar Sharma   \n",
       "\n",
       "                  published  \n",
       "0  2022-05-09T15:27:43.000Z  \n",
       "1  2022-05-10T04:33:15.000Z  \n",
       "2  2022-05-10T03:42:26.000Z  \n",
       "3  2022-05-10T05:08:13.000Z  \n",
       "4  2022-05-10T04:18:35.000Z  "
      ]
     },
     "execution_count": 68,
     "metadata": {},
     "output_type": "execute_result"
    }
   ],
   "source": [
    "df = get_news_articles()\n",
    "df.head()"
   ]
  }
 ],
 "metadata": {
  "kernelspec": {
   "display_name": "Python 3 (ipykernel)",
   "language": "python",
   "name": "python3"
  },
  "language_info": {
   "codemirror_mode": {
    "name": "ipython",
    "version": 3
   },
   "file_extension": ".py",
   "mimetype": "text/x-python",
   "name": "python",
   "nbconvert_exporter": "python",
   "pygments_lexer": "ipython3",
   "version": "3.9.7"
  }
 },
 "nbformat": 4,
 "nbformat_minor": 5
}
